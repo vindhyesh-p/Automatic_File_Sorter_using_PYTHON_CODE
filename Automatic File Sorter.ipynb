{
 "cells": [
  {
   "cell_type": "code",
   "execution_count": 1,
   "id": "bcf8657c",
   "metadata": {},
   "outputs": [],
   "source": [
    "import os, shutil"
   ]
  },
  {
   "cell_type": "code",
   "execution_count": 10,
   "id": "7d5f08da",
   "metadata": {},
   "outputs": [],
   "source": [
    "path = \"C:/Personal/Python_test/\""
   ]
  },
  {
   "cell_type": "code",
   "execution_count": null,
   "id": "a56460fd",
   "metadata": {},
   "outputs": [],
   "source": []
  },
  {
   "cell_type": "markdown",
   "id": "58ea7271",
   "metadata": {},
   "source": [
    "***CHECK THE FILES IN THE GIVEN PATH***"
   ]
  },
  {
   "cell_type": "code",
   "execution_count": null,
   "id": "245ef632",
   "metadata": {},
   "outputs": [],
   "source": []
  },
  {
   "cell_type": "code",
   "execution_count": 16,
   "id": "116caaa7",
   "metadata": {},
   "outputs": [
    {
     "data": {
      "text/plain": [
       "['Book1.xlsx',\n",
       " 'Health Card-2.png',\n",
       " 'Health Card.pdf',\n",
       " 'Image.png',\n",
       " 'personal.doc',\n",
       " 'test.pdf',\n",
       " 'Tracker.xlsx']"
      ]
     },
     "execution_count": 16,
     "metadata": {},
     "output_type": "execute_result"
    }
   ],
   "source": [
    "file_name = os.listdir(path)\n",
    "file_name"
   ]
  },
  {
   "cell_type": "code",
   "execution_count": null,
   "id": "a5790ff0",
   "metadata": {},
   "outputs": [],
   "source": []
  },
  {
   "cell_type": "markdown",
   "id": "3f8fb164",
   "metadata": {},
   "source": [
    "***CREATE THE DESIRED FOLDERS IN GIVEN PATH***"
   ]
  },
  {
   "cell_type": "code",
   "execution_count": null,
   "id": "b279a4c3",
   "metadata": {},
   "outputs": [],
   "source": []
  },
  {
   "cell_type": "code",
   "execution_count": 18,
   "id": "9118ff77",
   "metadata": {},
   "outputs": [],
   "source": [
    "folder_names = ['excel files', 'image files', 'word files', 'pdf files']"
   ]
  },
  {
   "cell_type": "code",
   "execution_count": 19,
   "id": "e7730195",
   "metadata": {},
   "outputs": [],
   "source": [
    "for loop in range(0,4):\n",
    "    if not os.path.exists(path + folder_names[loop]):\n",
    "             os.makedirs(path + folder_names[loop])"
   ]
  },
  {
   "cell_type": "code",
   "execution_count": null,
   "id": "98427372",
   "metadata": {},
   "outputs": [],
   "source": []
  },
  {
   "cell_type": "markdown",
   "id": "452adf2c",
   "metadata": {},
   "source": [
    "***PUT THE FILES IN RESPECTIVE FOLDERS***"
   ]
  },
  {
   "cell_type": "code",
   "execution_count": null,
   "id": "4e32b898",
   "metadata": {},
   "outputs": [],
   "source": []
  },
  {
   "cell_type": "code",
   "execution_count": 20,
   "id": "2a731f99",
   "metadata": {},
   "outputs": [],
   "source": [
    "for file in file_name:\n",
    "    if \".xlsx\" in file and not os.path.exists(path + \"excel files/\" + file):\n",
    "        shutil.move(path + file, path + \"excel files/\" + file)\n",
    "    elif \".pdf\" in file and not os.path.exists(path + \"pdf files/\" + file):\n",
    "        shutil.move(path + file, path + \"pdf files/\" + file)\n",
    "    elif \".png\" in file and not os.path.exists(path + \"image files/\" + file):\n",
    "        shutil.move(path + file, path + \"image files/\" + file)\n",
    "    elif \".doc\" in file and not os.path.exists(path + \"word files/\" + file):\n",
    "        shutil.move(path + file, path + \"word files/\" + file)"
   ]
  },
  {
   "cell_type": "code",
   "execution_count": null,
   "id": "7873fb24",
   "metadata": {},
   "outputs": [],
   "source": []
  }
 ],
 "metadata": {
  "kernelspec": {
   "display_name": "Python 3 (ipykernel)",
   "language": "python",
   "name": "python3"
  },
  "language_info": {
   "codemirror_mode": {
    "name": "ipython",
    "version": 3
   },
   "file_extension": ".py",
   "mimetype": "text/x-python",
   "name": "python",
   "nbconvert_exporter": "python",
   "pygments_lexer": "ipython3",
   "version": "3.10.9"
  }
 },
 "nbformat": 4,
 "nbformat_minor": 5
}
